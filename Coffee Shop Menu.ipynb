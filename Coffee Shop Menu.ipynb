{
 "cells": [
  {
   "cell_type": "code",
   "execution_count": 3,
   "id": "be4098d1-8264-4a56-bba1-9be2e3677140",
   "metadata": {},
   "outputs": [
    {
     "name": "stdout",
     "output_type": "stream",
     "text": [
      "My Coffee and Muffin Shop\n",
      "Numbers of Coffee bought?\n",
      "4\n",
      "Numbers of Muffins Bought?\n"
     ]
    },
    {
     "data": {
      "text/plain": [
       "3"
      ]
     },
     "execution_count": 3,
     "metadata": {},
     "output_type": "execute_result"
    }
   ],
   "source": [
    "print(\"My Coffee and Muffin Shop\")\n",
    "print(\"Numbers of Coffee bought?\")\n",
    "print(4)\n",
    "print(\"Numbers of Muffins Bought?\")\n",
    "(3)"
   ]
  },
  {
   "cell_type": "code",
   "execution_count": 5,
   "id": "f9f27c16-2300-41d4-b33f-34ca2d086cac",
   "metadata": {},
   "outputs": [
    {
     "name": "stdout",
     "output_type": "stream",
     "text": [
      "My Coffee and Muffin Shop Receipt\n",
      "4 Coffees at $5 each:$20.00\n",
      "3 Muffins at $4 each:$12.00\n",
      "6% tax: $0.78\n",
      "--------------------\n",
      "Total:$22.00\n"
     ]
    }
   ],
   "source": [
    "print(\"My Coffee and Muffin Shop Receipt\")\n",
    "print(\"4 Coffees at $5 each:$20.00\")\n",
    "print(\"3 Muffins at $4 each:$12.00\")\n",
    "print(\"6% tax: $0.78\")\n",
    "print(\"--------------------\")\n",
    "print(\"Total:$22.00\")"
   ]
  }
 ],
 "metadata": {
  "kernelspec": {
   "display_name": "Python 3 (ipykernel)",
   "language": "python",
   "name": "python3"
  },
  "language_info": {
   "codemirror_mode": {
    "name": "ipython",
    "version": 3
   },
   "file_extension": ".py",
   "mimetype": "text/x-python",
   "name": "python",
   "nbconvert_exporter": "python",
   "pygments_lexer": "ipython3",
   "version": "3.11.7"
  }
 },
 "nbformat": 4,
 "nbformat_minor": 5
}
print("My Coffee and Muffin Shop")
print("Coffee:$5")
print("Muffin:$4")
print("Tea:$2")
print("Bagel:$3")

print("Numbers of Teas bought?")
(4)
print("numbers of Bagels bought?")
(8)

print("My Coffee and Muffin Shop Receipt")
print("4 Teas at $2 each:$8.00")
print("8 bagels at $3 each: $24.00")
print("6% Tax:$0.78")
print("------------------------")
print("Total:$32.78")

print("Thank you for making a purcahse from our coffee shop/remember to have a great day and to always support your local coffee shop")
